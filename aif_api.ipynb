{
 "cells": [
  {
   "cell_type": "code",
   "execution_count": 1,
   "metadata": {},
   "outputs": [],
   "source": [
    "import re, json\n",
    "import requests\n",
    "import my_keys\n"
   ]
  },
  {
   "cell_type": "markdown",
   "metadata": {},
   "source": [
    "# Objective\n",
    "\n",
    "Access the API for AIF automatically so as to get the data in json format.µ"
   ]
  },
  {
   "cell_type": "markdown",
   "metadata": {},
   "source": [
    "## Open a requests session \n",
    "\n",
    "- open session \n",
    "- recover csrf token "
   ]
  },
  {
   "cell_type": "code",
   "execution_count": 5,
   "metadata": {},
   "outputs": [],
   "source": [
    "s = requests.session()\n",
    "\n",
    "url = 'https://aif.centre-mersenne.org/ojs/login'\n",
    "r = s.get(url)\n",
    "\n",
    "csrf_p = re.compile('name=\"csrfToken\" value=\"(.*?)\"')\n",
    "mm = csrf_p.search(r.text)\n",
    "token = mm.group(1)"
   ]
  },
  {
   "cell_type": "markdown",
   "metadata": {},
   "source": [
    "we now need to build the parameter dictionnary\n",
    "\n",
    "- login details are stored in my private cache my_keys.py"
   ]
  },
  {
   "cell_type": "code",
   "execution_count": 6,
   "metadata": {},
   "outputs": [
    {
     "data": {
      "text/plain": [
       "{'username': 'mcshane',\n",
       " 'password': 'caca4herve',\n",
       " 'csrfToken': '3ce95439be733a14d7e24bca189e49b8',\n",
       " 'remember': 1}"
      ]
     },
     "execution_count": 6,
     "metadata": {},
     "output_type": "execute_result"
    }
   ],
   "source": [
    "params = my_keys.keys['aif']\n",
    "params['csrfToken'] = token\n",
    "params['remember'] = 1\n",
    "params"
   ]
  },
  {
   "cell_type": "markdown",
   "metadata": {},
   "source": [
    "the login now is trivial "
   ]
  },
  {
   "cell_type": "code",
   "execution_count": 7,
   "metadata": {},
   "outputs": [],
   "source": [
    "url = 'https://aif.centre-mersenne.org/ojs/login/signIn' \n",
    "r = s.post(url,params= params)"
   ]
  },
  {
   "cell_type": "code",
   "execution_count": 26,
   "metadata": {},
   "outputs": [],
   "source": []
  },
  {
   "cell_type": "markdown",
   "metadata": {},
   "source": [
    "So I found the request in by inspecting network traffic in Chrome.\n",
    "\n",
    "- This yields the raw json which is more convenient than scraping \n",
    "- I don't understand why the **status[]** is set twice"
   ]
  },
  {
   "cell_type": "code",
   "execution_count": 13,
   "metadata": {},
   "outputs": [],
   "source": [
    "url = 'https://aif.centre-mersenne.org/ojs/index.php/AIF/api/v1/_submissions?'\n",
    "params2 = 'status%5B%5D=4&status%5B%5D=3&assignedTo=37&orderBy=lastModified&searchPhrase=&count=20&offset=0&_=1554444524714'\n",
    "\n",
    "#decode but Chrome does this for you too\n",
    "from urllib.parse import unquote\n",
    "unquote(unquote(params2))"
   ]
  },
  {
   "cell_type": "code",
   "execution_count": 17,
   "metadata": {},
   "outputs": [
    {
     "data": {
      "text/plain": [
       "{'status[]': 4,\n",
       " 'assignedTo': 37,\n",
       " 'orderBy': 'lastModified',\n",
       " 'searchPhrase': '',\n",
       " 'count': 20,\n",
       " 'offset': 0,\n",
       " '_': 1554444524714}"
      ]
     },
     "execution_count": 17,
     "metadata": {},
     "output_type": "execute_result"
    }
   ],
   "source": [
    "params2 = {'status[]': 4,\n",
    "           'assignedTo': 37,\n",
    "           'orderBy' : 'lastModified',\n",
    "           'searchPhrase' : '',\n",
    "           'count' : 20,\n",
    "           'offset' : 0, \n",
    "           '_' : 1554444524714}\n",
    "params2"
   ]
  },
  {
   "cell_type": "markdown",
   "metadata": {},
   "source": [
    "send the request and dump the result for future reference"
   ]
  },
  {
   "cell_type": "code",
   "execution_count": 19,
   "metadata": {},
   "outputs": [],
   "source": [
    "r = s.get(url, params=params2)\n",
    "with open('aif.html','w') as fp:\n",
    "    fp.write(r.text)"
   ]
  },
  {
   "cell_type": "markdown",
   "metadata": {},
   "source": [
    "decode the json and inspect the dictionnary"
   ]
  },
  {
   "cell_type": "code",
   "execution_count": 21,
   "metadata": {},
   "outputs": [],
   "source": [
    "dd = json.loads(r.text)\n",
    "dd.keys()"
   ]
  },
  {
   "cell_type": "markdown",
   "metadata": {},
   "source": [
    "this was the code I used to scrape the page I was dumping by hand before"
   ]
  },
  {
   "cell_type": "code",
   "execution_count": 21,
   "metadata": {},
   "outputs": [],
   "source": [
    "pp = re.compile('(\\{\"items\".*?)\\);',re.DOTALL)\n",
    "#px = re.compile('pkp.registry.init\\((.*?)\\);',re.DOTALL)\n",
    "data = re.sub('=\\n','',data)\n",
    "mm = pp.search(data)\n",
    "txt = mm.group(1)\n",
    "\n",
    "dd = json.loads( txt )"
   ]
  },
  {
   "cell_type": "code",
   "execution_count": 23,
   "metadata": {},
   "outputs": [],
   "source": [
    "arts = dd['items']"
   ]
  },
  {
   "cell_type": "code",
   "execution_count": 24,
   "metadata": {},
   "outputs": [
    {
     "data": {
      "text/plain": [
       "20"
      ]
     },
     "execution_count": 24,
     "metadata": {},
     "output_type": "execute_result"
    }
   ],
   "source": [
    "len(arts)"
   ]
  },
  {
   "cell_type": "code",
   "execution_count": 25,
   "metadata": {},
   "outputs": [
    {
     "data": {
      "text/plain": [
       "dict_keys(['id', 'fullTitle', 'status', 'submissionProgress', 'stages', 'reviewRounds', 'reviewAssignments', 'locale', 'urlWorkflow', 'urlAuthorWorkflow', 'urlEditorialWorkflow', '_href', 'lastModified', 'authorString', 'urlPublished'])"
      ]
     },
     "execution_count": 25,
     "metadata": {},
     "output_type": "execute_result"
    }
   ],
   "source": [
    "arts[0].keys()"
   ]
  },
  {
   "cell_type": "code",
   "execution_count": 40,
   "metadata": {},
   "outputs": [],
   "source": []
  },
  {
   "cell_type": "markdown",
   "metadata": {},
   "source": [
    "## Finally\n",
    "\n",
    "Import to a Pandas dataframe as it looks prettier"
   ]
  },
  {
   "cell_type": "code",
   "execution_count": 28,
   "metadata": {},
   "outputs": [],
   "source": [
    "import pandas as pd\n",
    "\n",
    "fields = ['authorString', 'fullTitle']\n",
    "\n",
    "def get_title(x):\n",
    "    tt = x['fullTitle']['en_US']\n",
    "    if tt != '' : return tt\n",
    "    return x['fullTitle']['fr_FR']\n",
    "\n",
    "stuff ={ff: [] for ff in fields }\n",
    "    \n",
    "for x in arts:\n",
    "    for ff in fields:\n",
    "        if ff != 'fullTitle':\n",
    "            stuff[ff].append(x[ff])\n",
    "        else:\n",
    "            stuff[ff].append(get_title(x))\n"
   ]
  },
  {
   "cell_type": "code",
   "execution_count": 29,
   "metadata": {},
   "outputs": [],
   "source": [
    "df = pd.DataFrame.from_dict(stuff)"
   ]
  },
  {
   "cell_type": "markdown",
   "metadata": {},
   "source": [
    "## Sorry but\n",
    "\n",
    "I can't show you this confidential "
   ]
  },
  {
   "cell_type": "code",
   "execution_count": null,
   "metadata": {},
   "outputs": [],
   "source": []
  },
  {
   "cell_type": "code",
   "execution_count": null,
   "metadata": {},
   "outputs": [],
   "source": []
  }
 ],
 "metadata": {
  "kernelspec": {
   "display_name": "Python 3",
   "language": "python",
   "name": "python3"
  },
  "language_info": {
   "codemirror_mode": {
    "name": "ipython",
    "version": 3
   },
   "file_extension": ".py",
   "mimetype": "text/x-python",
   "name": "python",
   "nbconvert_exporter": "python",
   "pygments_lexer": "ipython3",
   "version": "3.6.5"
  }
 },
 "nbformat": 4,
 "nbformat_minor": 2
}
