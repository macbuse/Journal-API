{
 "cells": [
  {
   "cell_type": "code",
   "execution_count": 1,
   "metadata": {},
   "outputs": [],
   "source": [
    "import re, json\n",
    "import requests\n",
    "import my_keys\n"
   ]
  },
  {
   "cell_type": "markdown",
   "metadata": {},
   "source": [
    "# Objective\n",
    "\n",
    "Access the API for AIF automatically so as to get the data in json format.µ"
   ]
  },
  {
   "cell_type": "markdown",
   "metadata": {},
   "source": [
    "## Open a requests session \n",
    "\n",
    "- open session \n",
    "- recover csrf token "
   ]
  },
  {
   "cell_type": "code",
   "execution_count": 5,
   "metadata": {},
   "outputs": [],
   "source": [
    "s = requests.session()\n",
    "\n",
    "url = 'https://aif.centre-mersenne.org/ojs/login'\n",
    "r = s.get(url)\n",
    "\n",
    "csrf_p = re.compile('name=\"csrfToken\" value=\"(.*?)\"')\n",
    "mm = csrf_p.search(r.text)\n",
    "token = mm.group(1)"
   ]
  },
  {
   "cell_type": "markdown",
   "metadata": {},
   "source": [
    "we now need to build the parameter dictionnary\n",
    "\n",
    "- login details are stored in my private cache my_keys.py"
   ]
  },
  {
   "cell_type": "code",
   "execution_count": 6,
   "metadata": {},
   "outputs": [
    {
     "data": {
      "text/plain": [
       "{'username': 'mcshane',\n",
       " 'password': 'caca4herve',\n",
       " 'csrfToken': '3ce95439be733a14d7e24bca189e49b8',\n",
       " 'remember': 1}"
      ]
     },
     "execution_count": 6,
     "metadata": {},
     "output_type": "execute_result"
    }
   ],
   "source": [
    "params = my_keys.keys['aif']\n",
    "params['csrfToken'] = token\n",
    "params['remember'] = 1\n",
    "params"
   ]
  },
  {
   "cell_type": "markdown",
   "metadata": {},
   "source": [
    "the login now is trivial "
   ]
  },
  {
   "cell_type": "code",
   "execution_count": 7,
   "metadata": {},
   "outputs": [],
   "source": [
    "url = 'https://aif.centre-mersenne.org/ojs/login/signIn' \n",
    "r = s.post(url,params= params)"
   ]
  },
  {
   "cell_type": "code",
   "execution_count": 26,
   "metadata": {},
   "outputs": [],
   "source": []
  },
  {
   "cell_type": "markdown",
   "metadata": {},
   "source": [
    "So I found the request in by inspecting network traffic in Chrome.\n",
    "\n",
    "- This yields the raw json which is more convenient than scraping \n",
    "- I don't understand why the **status[]** is set twice"
   ]
  },
  {
   "cell_type": "code",
   "execution_count": 13,
   "metadata": {},
   "outputs": [],
   "source": [
    "url = 'https://aif.centre-mersenne.org/ojs/index.php/AIF/api/v1/_submissions?'\n",
    "params2 = 'status%5B%5D=4&status%5B%5D=3&assignedTo=37&orderBy=lastModified&searchPhrase=&count=20&offset=0&_=1554444524714'\n",
    "\n",
    "#decode but Chrome does this for you too\n",
    "from urllib.parse import unquote\n",
    "unquote(unquote(params2))"
   ]
  },
  {
   "cell_type": "code",
   "execution_count": 17,
   "metadata": {},
   "outputs": [
    {
     "data": {
      "text/plain": [
       "{'status[]': 4,\n",
       " 'assignedTo': 37,\n",
       " 'orderBy': 'lastModified',\n",
       " 'searchPhrase': '',\n",
       " 'count': 20,\n",
       " 'offset': 0,\n",
       " '_': 1554444524714}"
      ]
     },
     "execution_count": 17,
     "metadata": {},
     "output_type": "execute_result"
    }
   ],
   "source": [
    "params2 = {'status[]': 4,\n",
    "           'assignedTo': 37,\n",
    "           'orderBy' : 'lastModified',\n",
    "           'searchPhrase' : '',\n",
    "           'count' : 20,\n",
    "           'offset' : 0, \n",
    "           '_' : 1554444524714}\n",
    "params2"
   ]
  },
  {
   "cell_type": "markdown",
   "metadata": {},
   "source": [
    "send the request and dump the result for future reference"
   ]
  },
  {
   "cell_type": "code",
   "execution_count": 19,
   "metadata": {},
   "outputs": [],
   "source": [
    "r = s.get(url, params=params2)\n",
    "with open('aif.html','w') as fp:\n",
    "    fp.write(r.text)"
   ]
  },
  {
   "cell_type": "markdown",
   "metadata": {},
   "source": [
    "decode the json and inspect the dictionnary"
   ]
  },
  {
   "cell_type": "code",
   "execution_count": 21,
   "metadata": {},
   "outputs": [],
   "source": [
    "dd = json.loads(r.text)\n",
    "dd.keys()"
   ]
  },
  {
   "cell_type": "markdown",
   "metadata": {},
   "source": [
    "this was the code I used to scrape the page I was dumping by hand before"
   ]
  },
  {
   "cell_type": "code",
   "execution_count": 21,
   "metadata": {},
   "outputs": [],
   "source": [
    "pp = re.compile('(\\{\"items\".*?)\\);',re.DOTALL)\n",
    "#px = re.compile('pkp.registry.init\\((.*?)\\);',re.DOTALL)\n",
    "data = re.sub('=\\n','',data)\n",
    "mm = pp.search(data)\n",
    "txt = mm.group(1)\n",
    "\n",
    "dd = json.loads( txt )"
   ]
  },
  {
   "cell_type": "code",
   "execution_count": 23,
   "metadata": {},
   "outputs": [],
   "source": [
    "arts = dd['items']"
   ]
  },
  {
   "cell_type": "code",
   "execution_count": 24,
   "metadata": {},
   "outputs": [
    {
     "data": {
      "text/plain": [
       "20"
      ]
     },
     "execution_count": 24,
     "metadata": {},
     "output_type": "execute_result"
    }
   ],
   "source": [
    "len(arts)"
   ]
  },
  {
   "cell_type": "code",
   "execution_count": 25,
   "metadata": {},
   "outputs": [
    {
     "data": {
      "text/plain": [
       "dict_keys(['id', 'fullTitle', 'status', 'submissionProgress', 'stages', 'reviewRounds', 'reviewAssignments', 'locale', 'urlWorkflow', 'urlAuthorWorkflow', 'urlEditorialWorkflow', '_href', 'lastModified', 'authorString', 'urlPublished'])"
      ]
     },
     "execution_count": 25,
     "metadata": {},
     "output_type": "execute_result"
    }
   ],
   "source": [
    "arts[0].keys()"
   ]
  },
  {
   "cell_type": "code",
   "execution_count": 40,
   "metadata": {},
   "outputs": [],
   "source": []
  },
  {
   "cell_type": "markdown",
   "metadata": {},
   "source": [
    "## Finally\n",
    "\n",
    "Import to a Pandas dataframe as it looks prettier"
   ]
  },
  {
   "cell_type": "code",
   "execution_count": 41,
   "metadata": {},
   "outputs": [],
   "source": [
    "import pandas as pd\n",
    "\n",
    "fields = ['authorString', 'fullTitle']\n",
    "\n",
    "def get_title(x):\n",
    "    tt = x['fullTitle']['en_US']\n",
    "    if tt != '' : return tt\n",
    "    return x['fullTitle']['fr_FR']\n",
    "\n",
    "stuff ={ff: [] for ff in fields }\n",
    "    \n",
    "for x in arts:\n",
    "    for ff in fields:\n",
    "        if ff != 'fullTitle':\n",
    "            stuff[ff].append(x[ff])\n",
    "        else:\n",
    "            stuff[ff].append(get_title(x))\n"
   ]
  },
  {
   "cell_type": "code",
   "execution_count": 44,
   "metadata": {},
   "outputs": [
    {
     "data": {
      "text/html": [
       "<div>\n",
       "<style scoped>\n",
       "    .dataframe tbody tr th:only-of-type {\n",
       "        vertical-align: middle;\n",
       "    }\n",
       "\n",
       "    .dataframe tbody tr th {\n",
       "        vertical-align: top;\n",
       "    }\n",
       "\n",
       "    .dataframe thead th {\n",
       "        text-align: right;\n",
       "    }\n",
       "</style>\n",
       "<table border=\"1\" class=\"dataframe\">\n",
       "  <thead>\n",
       "    <tr style=\"text-align: right;\">\n",
       "      <th></th>\n",
       "      <th>authorString</th>\n",
       "      <th>fullTitle</th>\n",
       "    </tr>\n",
       "  </thead>\n",
       "  <tbody>\n",
       "    <tr>\n",
       "      <th>0</th>\n",
       "      <td>Cleon S. Barroso</td>\n",
       "      <td>Asymptotic monotone basic sequences and unit s...</td>\n",
       "    </tr>\n",
       "    <tr>\n",
       "      <th>1</th>\n",
       "      <td>Chol Park</td>\n",
       "      <td>A classification of Breuil modules</td>\n",
       "    </tr>\n",
       "    <tr>\n",
       "      <th>2</th>\n",
       "      <td>Antoine Ducros</td>\n",
       "      <td>Réduction en famille d'espaces affinoïdes</td>\n",
       "    </tr>\n",
       "    <tr>\n",
       "      <th>3</th>\n",
       "      <td>Christopher-Lloyd SIMON</td>\n",
       "      <td>Topology and enumeration of plane algebraic cu...</td>\n",
       "    </tr>\n",
       "    <tr>\n",
       "      <th>4</th>\n",
       "      <td>Javier Oswaldo Rodríguez Velásquez, Signed Esp...</td>\n",
       "      <td>Probabilistic prediction of consecutive prime ...</td>\n",
       "    </tr>\n",
       "    <tr>\n",
       "      <th>5</th>\n",
       "      <td>Liviu Ornea</td>\n",
       "      <td>Hopf surfaces in locally conformally Kähler ma...</td>\n",
       "    </tr>\n",
       "    <tr>\n",
       "      <th>6</th>\n",
       "      <td>nasreen kausar</td>\n",
       "      <td>Dr Characterizations of non-associative ordere...</td>\n",
       "    </tr>\n",
       "    <tr>\n",
       "      <th>7</th>\n",
       "      <td>Ilias Aarab, Mohamed Ali Tagmouti, Adnan Bakka...</td>\n",
       "      <td>The Conjecture 6P</td>\n",
       "    </tr>\n",
       "    <tr>\n",
       "      <th>8</th>\n",
       "      <td>Beata Hejmej, Janusz Gwoździewicz</td>\n",
       "      <td>On Abhyankar-Moh irreducibility criterion for ...</td>\n",
       "    </tr>\n",
       "    <tr>\n",
       "      <th>9</th>\n",
       "      <td>Feng Rong</td>\n",
       "      <td>Classification of holomorphic endomorphisms of...</td>\n",
       "    </tr>\n",
       "    <tr>\n",
       "      <th>10</th>\n",
       "      <td>Richard Lärkäng, Elizabeth Wulcan</td>\n",
       "      <td>Residue currents and cycles of complexes of ve...</td>\n",
       "    </tr>\n",
       "    <tr>\n",
       "      <th>11</th>\n",
       "      <td>SANJAY MUKHERJEE</td>\n",
       "      <td>Approximation Theory On (N,p,q)(E,1) Summabili...</td>\n",
       "    </tr>\n",
       "    <tr>\n",
       "      <th>12</th>\n",
       "      <td>Mohammad Sababheh</td>\n",
       "      <td>A Hardy-type inequality</td>\n",
       "    </tr>\n",
       "    <tr>\n",
       "      <th>13</th>\n",
       "      <td>Tair Gadjiev, Vagif Guliyev, Faig Namazov</td>\n",
       "      <td>The The regularity of solutions nonlinear para...</td>\n",
       "    </tr>\n",
       "    <tr>\n",
       "      <th>14</th>\n",
       "      <td>Somayeh Mohammadzadeh</td>\n",
       "      <td>SPECIFIC COMPLETE MEASURE IN THE STRUCTURE OF ...</td>\n",
       "    </tr>\n",
       "    <tr>\n",
       "      <th>15</th>\n",
       "      <td>Sennimalai Kalimuthu</td>\n",
       "      <td>Application tensor algebra to cosmic triangles...</td>\n",
       "    </tr>\n",
       "    <tr>\n",
       "      <th>16</th>\n",
       "      <td>Sennimalai Kalimuthu</td>\n",
       "      <td>Application of algebra to   Friedman Equations...</td>\n",
       "    </tr>\n",
       "    <tr>\n",
       "      <th>17</th>\n",
       "      <td>Sennimalai Kalimuthu</td>\n",
       "      <td>Application of classical algebra to cosmic tri...</td>\n",
       "    </tr>\n",
       "    <tr>\n",
       "      <th>18</th>\n",
       "      <td>Han Geurdes</td>\n",
       "      <td>Anomaly in sign function-probability function ...</td>\n",
       "    </tr>\n",
       "    <tr>\n",
       "      <th>19</th>\n",
       "      <td>Anh Bui, Xuan Duong</td>\n",
       "      <td>Spectral multipliers of self-adjoint operators...</td>\n",
       "    </tr>\n",
       "  </tbody>\n",
       "</table>\n",
       "</div>"
      ],
      "text/plain": [
       "                                         authorString  \\\n",
       "0                                    Cleon S. Barroso   \n",
       "1                                           Chol Park   \n",
       "2                                      Antoine Ducros   \n",
       "3                             Christopher-Lloyd SIMON   \n",
       "4   Javier Oswaldo Rodríguez Velásquez, Signed Esp...   \n",
       "5                                         Liviu Ornea   \n",
       "6                                      nasreen kausar   \n",
       "7   Ilias Aarab, Mohamed Ali Tagmouti, Adnan Bakka...   \n",
       "8                   Beata Hejmej, Janusz Gwoździewicz   \n",
       "9                                           Feng Rong   \n",
       "10                  Richard Lärkäng, Elizabeth Wulcan   \n",
       "11                                   SANJAY MUKHERJEE   \n",
       "12                                  Mohammad Sababheh   \n",
       "13          Tair Gadjiev, Vagif Guliyev, Faig Namazov   \n",
       "14                              Somayeh Mohammadzadeh   \n",
       "15                               Sennimalai Kalimuthu   \n",
       "16                               Sennimalai Kalimuthu   \n",
       "17                               Sennimalai Kalimuthu   \n",
       "18                                        Han Geurdes   \n",
       "19                                Anh Bui, Xuan Duong   \n",
       "\n",
       "                                            fullTitle  \n",
       "0   Asymptotic monotone basic sequences and unit s...  \n",
       "1                  A classification of Breuil modules  \n",
       "2           Réduction en famille d'espaces affinoïdes  \n",
       "3   Topology and enumeration of plane algebraic cu...  \n",
       "4   Probabilistic prediction of consecutive prime ...  \n",
       "5   Hopf surfaces in locally conformally Kähler ma...  \n",
       "6   Dr Characterizations of non-associative ordere...  \n",
       "7                                   The Conjecture 6P  \n",
       "8   On Abhyankar-Moh irreducibility criterion for ...  \n",
       "9   Classification of holomorphic endomorphisms of...  \n",
       "10  Residue currents and cycles of complexes of ve...  \n",
       "11  Approximation Theory On (N,p,q)(E,1) Summabili...  \n",
       "12                            A Hardy-type inequality  \n",
       "13  The The regularity of solutions nonlinear para...  \n",
       "14  SPECIFIC COMPLETE MEASURE IN THE STRUCTURE OF ...  \n",
       "15  Application tensor algebra to cosmic triangles...  \n",
       "16  Application of algebra to   Friedman Equations...  \n",
       "17  Application of classical algebra to cosmic tri...  \n",
       "18  Anomaly in sign function-probability function ...  \n",
       "19  Spectral multipliers of self-adjoint operators...  "
      ]
     },
     "execution_count": 44,
     "metadata": {},
     "output_type": "execute_result"
    }
   ],
   "source": [
    "df = pd.DataFrame.from_dict(stuff)\n",
    "df"
   ]
  },
  {
   "cell_type": "code",
   "execution_count": 43,
   "metadata": {},
   "outputs": [
    {
     "data": {
      "text/html": [
       "<div>\n",
       "<style scoped>\n",
       "    .dataframe tbody tr th:only-of-type {\n",
       "        vertical-align: middle;\n",
       "    }\n",
       "\n",
       "    .dataframe tbody tr th {\n",
       "        vertical-align: top;\n",
       "    }\n",
       "\n",
       "    .dataframe thead th {\n",
       "        text-align: right;\n",
       "    }\n",
       "</style>\n",
       "<table border=\"1\" class=\"dataframe\">\n",
       "  <thead>\n",
       "    <tr style=\"text-align: right;\">\n",
       "      <th></th>\n",
       "      <th>authorString</th>\n",
       "      <th>fullTitle</th>\n",
       "    </tr>\n",
       "  </thead>\n",
       "  <tbody>\n",
       "    <tr>\n",
       "      <th>0</th>\n",
       "      <td>Cleon S. Barroso</td>\n",
       "      <td>Asymptotic monotone basic sequences and unit s...</td>\n",
       "    </tr>\n",
       "    <tr>\n",
       "      <th>1</th>\n",
       "      <td>Chol Park</td>\n",
       "      <td>A classification of Breuil modules</td>\n",
       "    </tr>\n",
       "    <tr>\n",
       "      <th>2</th>\n",
       "      <td>Antoine Ducros</td>\n",
       "      <td>Réduction en famille d'espaces affinoïdes</td>\n",
       "    </tr>\n",
       "    <tr>\n",
       "      <th>3</th>\n",
       "      <td>Christopher-Lloyd SIMON</td>\n",
       "      <td>Topology and enumeration of plane algebraic cu...</td>\n",
       "    </tr>\n",
       "    <tr>\n",
       "      <th>4</th>\n",
       "      <td>Javier Oswaldo Rodríguez Velásquez, Signed Esp...</td>\n",
       "      <td>Probabilistic prediction of consecutive prime ...</td>\n",
       "    </tr>\n",
       "    <tr>\n",
       "      <th>5</th>\n",
       "      <td>Liviu Ornea</td>\n",
       "      <td>Hopf surfaces in locally conformally Kähler ma...</td>\n",
       "    </tr>\n",
       "    <tr>\n",
       "      <th>6</th>\n",
       "      <td>nasreen kausar</td>\n",
       "      <td>Dr Characterizations of non-associative ordere...</td>\n",
       "    </tr>\n",
       "    <tr>\n",
       "      <th>7</th>\n",
       "      <td>Ilias Aarab, Mohamed Ali Tagmouti, Adnan Bakka...</td>\n",
       "      <td>The Conjecture 6P</td>\n",
       "    </tr>\n",
       "    <tr>\n",
       "      <th>8</th>\n",
       "      <td>Beata Hejmej, Janusz Gwoździewicz</td>\n",
       "      <td>On Abhyankar-Moh irreducibility criterion for ...</td>\n",
       "    </tr>\n",
       "    <tr>\n",
       "      <th>9</th>\n",
       "      <td>Feng Rong</td>\n",
       "      <td>Classification of holomorphic endomorphisms of...</td>\n",
       "    </tr>\n",
       "    <tr>\n",
       "      <th>10</th>\n",
       "      <td>Richard Lärkäng, Elizabeth Wulcan</td>\n",
       "      <td>Residue currents and cycles of complexes of ve...</td>\n",
       "    </tr>\n",
       "    <tr>\n",
       "      <th>11</th>\n",
       "      <td>SANJAY MUKHERJEE</td>\n",
       "      <td>Approximation Theory On (N,p,q)(E,1) Summabili...</td>\n",
       "    </tr>\n",
       "    <tr>\n",
       "      <th>12</th>\n",
       "      <td>Mohammad Sababheh</td>\n",
       "      <td>A Hardy-type inequality</td>\n",
       "    </tr>\n",
       "    <tr>\n",
       "      <th>13</th>\n",
       "      <td>Tair Gadjiev, Vagif Guliyev, Faig Namazov</td>\n",
       "      <td>The The regularity of solutions nonlinear para...</td>\n",
       "    </tr>\n",
       "    <tr>\n",
       "      <th>14</th>\n",
       "      <td>Somayeh Mohammadzadeh</td>\n",
       "      <td>SPECIFIC COMPLETE MEASURE IN THE STRUCTURE OF ...</td>\n",
       "    </tr>\n",
       "    <tr>\n",
       "      <th>15</th>\n",
       "      <td>Sennimalai Kalimuthu</td>\n",
       "      <td>Application tensor algebra to cosmic triangles...</td>\n",
       "    </tr>\n",
       "    <tr>\n",
       "      <th>16</th>\n",
       "      <td>Sennimalai Kalimuthu</td>\n",
       "      <td>Application of algebra to   Friedman Equations...</td>\n",
       "    </tr>\n",
       "    <tr>\n",
       "      <th>17</th>\n",
       "      <td>Sennimalai Kalimuthu</td>\n",
       "      <td>Application of classical algebra to cosmic tri...</td>\n",
       "    </tr>\n",
       "    <tr>\n",
       "      <th>18</th>\n",
       "      <td>Han Geurdes</td>\n",
       "      <td>Anomaly in sign function-probability function ...</td>\n",
       "    </tr>\n",
       "    <tr>\n",
       "      <th>19</th>\n",
       "      <td>Anh Bui, Xuan Duong</td>\n",
       "      <td>Spectral multipliers of self-adjoint operators...</td>\n",
       "    </tr>\n",
       "  </tbody>\n",
       "</table>\n",
       "</div>"
      ],
      "text/plain": [
       "                                         authorString  \\\n",
       "0                                    Cleon S. Barroso   \n",
       "1                                           Chol Park   \n",
       "2                                      Antoine Ducros   \n",
       "3                             Christopher-Lloyd SIMON   \n",
       "4   Javier Oswaldo Rodríguez Velásquez, Signed Esp...   \n",
       "5                                         Liviu Ornea   \n",
       "6                                      nasreen kausar   \n",
       "7   Ilias Aarab, Mohamed Ali Tagmouti, Adnan Bakka...   \n",
       "8                   Beata Hejmej, Janusz Gwoździewicz   \n",
       "9                                           Feng Rong   \n",
       "10                  Richard Lärkäng, Elizabeth Wulcan   \n",
       "11                                   SANJAY MUKHERJEE   \n",
       "12                                  Mohammad Sababheh   \n",
       "13          Tair Gadjiev, Vagif Guliyev, Faig Namazov   \n",
       "14                              Somayeh Mohammadzadeh   \n",
       "15                               Sennimalai Kalimuthu   \n",
       "16                               Sennimalai Kalimuthu   \n",
       "17                               Sennimalai Kalimuthu   \n",
       "18                                        Han Geurdes   \n",
       "19                                Anh Bui, Xuan Duong   \n",
       "\n",
       "                                            fullTitle  \n",
       "0   Asymptotic monotone basic sequences and unit s...  \n",
       "1                  A classification of Breuil modules  \n",
       "2           Réduction en famille d'espaces affinoïdes  \n",
       "3   Topology and enumeration of plane algebraic cu...  \n",
       "4   Probabilistic prediction of consecutive prime ...  \n",
       "5   Hopf surfaces in locally conformally Kähler ma...  \n",
       "6   Dr Characterizations of non-associative ordere...  \n",
       "7                                   The Conjecture 6P  \n",
       "8   On Abhyankar-Moh irreducibility criterion for ...  \n",
       "9   Classification of holomorphic endomorphisms of...  \n",
       "10  Residue currents and cycles of complexes of ve...  \n",
       "11  Approximation Theory On (N,p,q)(E,1) Summabili...  \n",
       "12                            A Hardy-type inequality  \n",
       "13  The The regularity of solutions nonlinear para...  \n",
       "14  SPECIFIC COMPLETE MEASURE IN THE STRUCTURE OF ...  \n",
       "15  Application tensor algebra to cosmic triangles...  \n",
       "16  Application of algebra to   Friedman Equations...  \n",
       "17  Application of classical algebra to cosmic tri...  \n",
       "18  Anomaly in sign function-probability function ...  \n",
       "19  Spectral multipliers of self-adjoint operators...  "
      ]
     },
     "execution_count": 43,
     "metadata": {},
     "output_type": "execute_result"
    }
   ],
   "source": []
  },
  {
   "cell_type": "code",
   "execution_count": 89,
   "metadata": {},
   "outputs": [
    {
     "data": {
      "text/plain": [
       "{'en_US': 'A note on the irrationality of certain hyperbolic, trigonometric, and logarithmic values',\n",
       " 'fr_FR': ''}"
      ]
     },
     "execution_count": 89,
     "metadata": {},
     "output_type": "execute_result"
    }
   ],
   "source": [
    "arts[0]['fullTitle']"
   ]
  },
  {
   "cell_type": "code",
   "execution_count": null,
   "metadata": {},
   "outputs": [],
   "source": []
  }
 ],
 "metadata": {
  "kernelspec": {
   "display_name": "Python 3",
   "language": "python",
   "name": "python3"
  },
  "language_info": {
   "codemirror_mode": {
    "name": "ipython",
    "version": 3
   },
   "file_extension": ".py",
   "mimetype": "text/x-python",
   "name": "python",
   "nbconvert_exporter": "python",
   "pygments_lexer": "ipython3",
   "version": "3.6.5"
  }
 },
 "nbformat": 4,
 "nbformat_minor": 2
}
